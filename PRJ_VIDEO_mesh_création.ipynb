{
  "nbformat": 4,
  "nbformat_minor": 0,
  "metadata": {
    "colab": {
      "provenance": [],
      "authorship_tag": "ABX9TyPzbRnfC9/W6d10e32JDrgh",
      "include_colab_link": true
    },
    "kernelspec": {
      "name": "python3",
      "display_name": "Python 3"
    },
    "language_info": {
      "name": "python"
    },
    "accelerator": "GPU",
    "gpuClass": "standard"
  },
  "cells": [
    {
      "cell_type": "markdown",
      "metadata": {
        "id": "view-in-github",
        "colab_type": "text"
      },
      "source": [
        "<a href=\"https://colab.research.google.com/github/burnedsyn/enablecudaopencvcolab/blob/main/PRJ_VIDEO_mesh_cr%C3%A9ation.ipynb\" target=\"_parent\"><img src=\"https://colab.research.google.com/assets/colab-badge.svg\" alt=\"Open In Colab\"/></a>"
      ]
    },
    {
      "cell_type": "code",
      "execution_count": null,
      "metadata": {
        "id": "veY9pzuGPbtQ"
      },
      "outputs": [],
      "source": [
        "!git clone https://github.com/opencv/opencv\n",
        "!git clone https://github.com/opencv/opencv_contrib\n",
        "!mkdir /content/build\n",
        "%cd /content/build\n",
        "\n",
        "!cmake -DOPENCV_EXTRA_MODULES_PATH=/content/opencv_contrib/modules  \\\n",
        "       -DBUILD_SHARED_LIBS=OFF \\\n",
        "       -DBUILD_TESTS=OFF \\\n",
        "       -DBUILD_PERF_TESTS=OFF \\\n",
        "       -DBUILD_EXAMPLES=OFF \\\n",
        "       -DWITH_OPENEXR=OFF \\\n",
        "       -DWITH_CUDA=ON \\\n",
        "       -DWITH_CUBLAS=ON \\\n",
        "       -DWITH_CUDNN=ON \\\n",
        "       -DOPENCV_DNN_CUDA=ON \\\n",
        "       /content/opencv\n",
        "\n",
        "!make -j8"
      ]
    },
    {
      "cell_type": "code",
      "source": [
        "# connect your Google Drive\n",
        "import os\n",
        "from google.colab import drive\n",
        "drive.mount('/content/drive', force_remount=True)\n"
      ],
      "metadata": {
        "id": "3z1YygkktO12"
      },
      "execution_count": null,
      "outputs": []
    },
    {
      "cell_type": "code",
      "source": [
        "## save for later use:\n",
        "%cd /content/drive/MyDrive\n",
        "!mkdir cv2_cuda\n",
        "!cp  /content/build/lib/python3/cv2.cpython-37m-x86_64-linux-gnu.so   \"/content/drive/MyDrive/cv2_cuda/\"\n",
        "\n"
      ],
      "metadata": {
        "id": "FSmBsnu7D-uW"
      },
      "execution_count": null,
      "outputs": []
    },
    {
      "cell_type": "markdown",
      "source": [
        "Accelerateur gpu"
      ],
      "metadata": {
        "id": "F5398wpjZFgT"
      }
    },
    {
      "cell_type": "code",
      "source": [
        "import cv2\n",
        "import mediapipe as mp\n",
        "import tensorflow as tf\n",
        "\n",
        "# Enable TensorFlow GPU support\n",
        "gpus = tf.config.list_physical_devices('GPU')\n",
        "if gpus:\n",
        "    try:\n",
        "        tf.config.experimental.set_visible_devices(gpus[0], 'GPU')\n",
        "        tf.config.experimental.set_memory_growth(gpus[0], True)\n",
        "        print(\"Using GPU: \", tf.test.gpu_device_name())\n",
        "    except RuntimeError as e:\n",
        "        print(e)\n",
        "\n",
        "# Create the Face Mesh model\n",
        "mp_face_mesh = mp.solutions.face_mesh\n",
        "face_mesh = mp_face_mesh.FaceMesh(static_image_mode=False, max_num_faces=1, min_detection_confidence=0.5, min_tracking_confidence=0.5)\n",
        "\n",
        "# Create a VideoCapture object to read the video file\n",
        "cap = cv2.VideoCapture('/content/gdrive/MyDrive/AlicePRJ/alicvideo.mp4')\n",
        "\n",
        "\n",
        "# Read the first frame to get the frame size\n",
        "ret, frame = cap.read()\n",
        "frame_height, frame_width, _ = frame.shape\n",
        "\n",
        "# Create a CUDA stream for GPU-accelerated OpenCV functions\n",
        "cuda_stream = cv2.cuda_Stream()\n",
        "\n",
        "# Loop through the video frames\n",
        "while cap.isOpened():\n",
        "    # Read a frame from the video\n",
        "    ret, frame = cap.read()\n",
        "    if not ret:\n",
        "        break\n",
        "\n",
        "    # Convert the image from BGR to RGB\n",
        "    image = cv2.cvtColor(frame, cv2.COLOR_BGR2RGB)\n",
        "\n",
        "    # Create CUDA matrices for GPU-accelerated OpenCV functions\n",
        "    cuda_image = cv2.cuda_GpuMat(image, allocator=cv2.cuda.HostMemAllocator())\n",
        "    cuda_gray = cv2.cuda_GpuMat((frame_height, frame_width), cv2.CV_8UC1, allocator=cv2.cuda.HostMemAllocator())\n",
        "    cuda_threshold = cv2.cuda_GpuMat((frame_height, frame_width), cv2.CV_8UC1, allocator=cv2.cuda.HostMemAllocator())\n",
        "\n",
        "    # Convert the image to grayscale on the GPU\n",
        "    cv2.cuda.cvtColor(cuda_image, cv2.COLOR_RGB2GRAY, dst=cuda_gray, stream=cuda_stream)\n",
        "\n",
        "    # Threshold the grayscale image on the GPU\n",
        "    cv2.cuda.threshold(cuda_gray, 127, 255, cv2.THRESH_BINARY, dst=cuda_threshold, stream=cuda_stream)\n",
        "\n",
        "# Download the thresholded image back to the CPU\n",
        "thresholded_image = cuda_threshold.download()\n",
        "\n",
        "# Process the thresholded image with the Face Mesh model\n",
        "results = face_mesh.process(thresholded_image)\n",
        "\n",
        "# Draw the face mesh on the frame\n",
        "if results.multi_face_landmarks:\n",
        "    for face_landmarks in results.multi_face_landmarks:\n",
        "        mp_drawing.draw_landmarks(frame, face_landmarks, mp_face_mesh.FACEMESH_TESSELATION)\n",
        "\n",
        "# Display the frame\n",
        "cv2.imshow('Frame', frame)\n",
        "\n",
        "# Wait for a key press\n",
        "if cv2.waitKey(1) & 0xFF == ord('q'):\n",
        "    break\n",
        "cap.release()\n",
        "cv2.destroyAllWindows()\n"
      ],
      "metadata": {
        "id": "q6yu9x2LYRt3"
      },
      "execution_count": null,
      "outputs": []
    }
  ]
}