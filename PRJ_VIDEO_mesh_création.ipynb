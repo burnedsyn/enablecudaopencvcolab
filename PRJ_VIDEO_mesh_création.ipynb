{
  "nbformat": 4,
  "nbformat_minor": 0,
  "metadata": {
    "colab": {
      "provenance": [],
      "authorship_tag": "ABX9TyOrN1IWKwJDVYlkPCkRFDry",
      "include_colab_link": true
    },
    "kernelspec": {
      "name": "python3",
      "display_name": "Python 3"
    },
    "language_info": {
      "name": "python"
    },
    "accelerator": "GPU",
    "gpuClass": "standard"
  },
  "cells": [
    {
      "cell_type": "markdown",
      "metadata": {
        "id": "view-in-github",
        "colab_type": "text"
      },
      "source": [
        "<a href=\"https://colab.research.google.com/github/burnedsyn/enablecudaopencvcolab/blob/main/PRJ_VIDEO_mesh_cr%C3%A9ation.ipynb\" target=\"_parent\"><img src=\"https://colab.research.google.com/assets/colab-badge.svg\" alt=\"Open In Colab\"/></a>"
      ]
    },
    {
      "cell_type": "code",
      "execution_count": null,
      "metadata": {
        "id": "veY9pzuGPbtQ",
        "colab": {
          "base_uri": "https://localhost:8080/"
        },
        "outputId": "21d7991b-8a5b-4f65-ce8e-7d7c814cd291"
      },
      "outputs": [
        {
          "output_type": "stream",
          "name": "stdout",
          "text": [
            
          ]
        }
      ],
      "source": [
        "!git clone https://github.com/opencv/opencv\n",
        "!git clone https://github.com/opencv/opencv_contrib\n",
        "!mkdir /content/build\n",
        "%cd /content/build\n",
        "\n",
        "!cmake -DOPENCV_EXTRA_MODULES_PATH=/content/opencv_contrib/modules  \\\n",
        "       -DBUILD_SHARED_LIBS=OFF \\\n",
        "       -DBUILD_TESTS=OFF \\\n",
        "       -DBUILD_PERF_TESTS=OFF \\\n",
        "       -DBUILD_EXAMPLES=OFF \\\n",
        "       -DWITH_OPENEXR=OFF \\\n",
        "       -DWITH_CUDA=ON \\\n",
        "       -DWITH_CUBLAS=ON \\\n",
        "       -DWITH_CUDNN=ON \\\n",
        "       -DOPENCV_DNN_CUDA=ON \\\n",
        "       /content/opencv\n",
        "\n",
        "!make -j8"
      ]
    },
    {
      "cell_type": "code",
      "source": [],
      "metadata": {
        "id": "gU2aX4x9QcRf"
      },
      "execution_count": null,
      "outputs": []
    },
    {
      "cell_type": "code",
      "source": [
        "# connect your Google Drive\n",
        "import os\n",
        "from google.colab import drive\n",
        "drive.mount('/content/gdrive', force_remount=True)\n"
      ],
      "metadata": {
        "colab": {
          "base_uri": "https://localhost:8080/"
        },
        "id": "3z1YygkktO12",
        "outputId": "bef87761-9e6b-4c93-e9df-e6a9b3a2cea2"
      },
      "execution_count": null,
      "outputs": [
       
      ]
    },
    {
      "cell_type": "code",
      "source": [
        "!pip install opencv-python-headless mediapipe numpy"
      ],
      "metadata": {
        "id": "N8pLO95mdmMN"
      },
      "execution_count": null,
      "outputs": []
    },
    {
      "cell_type": "code",
      "source": [
        "import cv2\n",
        "import mediapipe as mp\n",
        "import numpy as np\n",
        "import csv\n",
        "import os\n",
        "\n",
        "cap = cv2.VideoCapture('/content/gdrive/MyDrive/AlicePRJ/alicvideo.mp4')\n",
        "\n",
        "mp_drawing = mp.solutions.drawing_utils\n",
        "mp_face_mesh = mp.solutions.face_mesh\n",
        "face_mesh = mp_face_mesh.FaceMesh(static_image_mode=False, max_num_faces=1, min_detection_confidence=0.5, min_tracking_confidence=0.5)\n",
        "\n",
        "# Create output directories\n",
        "output_dir = \"/content/gdrive/MyDrive/AlicePRJ/\"\n",
        "frame_dir = os.path.join(output_dir, \"frames\")\n",
        "landmarks_dir = os.path.join(output_dir, \"landmarks\")\n",
        "landmarks_only_dir = os.path.join(output_dir, \"landmarks_only\")\n",
        "csv_dir = os.path.join(output_dir, \"csv\")\n",
        "os.makedirs(frame_dir, exist_ok=True)\n",
        "os.makedirs(landmarks_dir, exist_ok=True)\n",
        "os.makedirs(landmarks_only_dir, exist_ok=True)\n",
        "os.makedirs(csv_dir, exist_ok=True)\n",
        "\n",
        "# Create CSV file to store landmarks and coordinates\n",
        "csv_file = open(os.path.join(csv_dir, \"landmarks.csv\"), \"w\")\n",
        "csv_writer = csv.writer(csv_file)\n",
        "csv_writer.writerow([\"Frame\", \"Landmark\", \"X\", \"Y\", \"Z\"])\n",
        "\n",
        "frame_num = 0\n",
        "\n",
        "while cap.isOpened():\n",
        "    # Read frame from video\n",
        "    ret, frame = cap.read()\n",
        "    if not ret:\n",
        "        break\n",
        "        \n",
        "    # Flip the frame horizontally for selfie view display\n",
        "    frame = cv2.flip(frame, 1)\n",
        "    \n",
        "    # Convert the image from BGR to RGB\n",
        "    image = cv2.cvtColor(frame, cv2.COLOR_BGR2RGB)\n",
        "    \n",
        "    # To improve performance, optionally mark the image as not writeable to pass by reference.\n",
        "    image.flags.writeable = False\n",
        "    \n",
        "    # Process the image with the Mediapipe Mesh solution\n",
        "    results = face_mesh.process(image)\n",
        "    \n",
        "    # Draw the face mesh on the frame\n",
        "    if results.multi_face_landmarks:\n",
        "        csv_file_path = os.path.join(csv_dir, f'frame_{frame_num}.csv')\n",
        "        for face_landmarks in results.multi_face_landmarks:\n",
        "              # Save the landmark coordinates to a CSV file\n",
        "           \n",
        "            with open(csv_file_path, 'w') as csv_file:\n",
        "                csv_writer.writerow([\"Frame\", \"Landmark\", \"X\", \"Y\", \"Z\"])\n",
        "                for landmark in face_landmarks.landmark:\n",
        "                    csv_file.write(f'{landmark.x},{landmark.y},{landmark.z}\\n')\n",
        "    \n",
        "                \n",
        "            # Draw the face mesh on the frame\n",
        "            mp_drawing.draw_landmarks(frame, face_landmarks, mp_face_mesh.FACEMESH_TESSELATION)\n",
        "            \n",
        "            # Save the landmark and the landmark only in separate image files\n",
        "            landmarks_filename = f\"landmarks_{frame_num:04d}.jpg\"\n",
        "            landmarks_path = os.path.join(landmarks_dir, landmarks_filename)\n",
        "            cv2.imwrite(landmarks_path, frame)\n",
        "            \n",
        "            landmarks_only = np.zeros_like(image)\n",
        "            mp_drawing.draw_landmarks(landmarks_only, face_landmarks, mp_face_mesh.FACEMESH_TESSELATION)\n",
        "            landmarks_only_filename = f\"landmarks_only_{frame_num:04d}.jpg\"\n",
        "            landmarks_only_path = os.path.join(landmarks_only_dir, landmarks_only_filename)\n",
        "            cv2.imwrite(landmarks_only_path, landmarks_only)\n",
        "            \n",
        "    # Save each frame as an image file\n",
        "    frame_filename = f\"frame_{frame_num:04d}.jpg\"\n",
        "    frame_path = os.path.join(frame_dir, frame_filename)\n",
        "    cv2.imwrite(frame_path, image)\n",
        "    \n",
        "    \n",
        "    \n",
        "    # Increment the frame number\n",
        "    frame_num += 1\n",
        "\n",
        "    # Exit the program when 'q' is pressed\n",
        "    if cv2.waitKey(1) & 0xFF == ord('q'):\n",
        "      break\n",
        "\n",
        "csv_file.close()\n",
        "cap.release()\n",
        "cv2.destroyAllWindows()\n"
      ],
      "metadata": {
        "id": "X3QbRamVngEd"
      },
      "execution_count": null,
      "outputs": []
    },
    {
      "cell_type": "code",
      "source": [],
      "metadata": {
        "id": "kZcqYWRunf2b"
      },
      "execution_count": null,
      "outputs": []
    },
    {
      "cell_type": "code",
      "source": [
        "!ffmpeg -framerate 30 -pattern_type glob -i '/content/gdrive/MyDrive/AlicePRJ/frames/*.jpg' -c:v libx264 -pix_fmt yuv420p /content/gdrive/MyDrive/AlicePRJ/frames/reconstructoriginal.mp4\n",
        "!ffmpeg -framerate 30 -pattern_type glob -i '/content/gdrive/MyDrive/AlicePRJ/landmarks/*.jpg' -c:v libx264 -pix_fmt yuv420p /content/gdrive/MyDrive/AlicePRJ/landmarks/reconstructlandmark.mp4\n",
        "!ffmpeg -framerate 30 -pattern_type glob -i '/content/gdrive/MyDrive/AlicePRJ/landmarks_only/*.jpg' -c:v libx264 -pix_fmt yuv420p /content/gdrive/MyDrive/AlicePRJ/landmarks_only/reconstructlandmarks_only.mp4\n",
        "\n"
      ],
      "metadata": {
        "colab": {
          "base_uri": "https://localhost:8080/"
        },
        "id": "Niir0FihtCkZ",
        "outputId": "141e08e9-4422-4cba-a3bb-dea5c57b54c9"
      },
      "execution_count": null,
      "outputs": [
        {
          "output_type": "stream",
          "name": "stdout",
          "text": [
            "ffmpeg version 4.2.7-0ubuntu0.1 Copyright (c) 2000-2022 the FFmpeg developers\n",
            "  built with gcc 9 (Ubuntu 9.4.0-1ubuntu1~20.04.1)\n",
            "  configuration: --prefix=/usr --extra-version=0ubuntu0.1 --toolchain=hardened --libdir=/usr/lib/x86_64-linux-gnu --incdir=/usr/include/x86_64-linux-gnu --arch=amd64 --enable-gpl --disable-stripping --enable-avresample --disable-filter=resample --enable-avisynth --enable-gnutls --enable-ladspa --enable-libaom --enable-libass --enable-libbluray --enable-libbs2b --enable-libcaca --enable-libcdio --enable-libcodec2 --enable-libflite --enable-libfontconfig --enable-libfreetype --enable-libfribidi --enable-libgme --enable-libgsm --enable-libjack --enable-libmp3lame --enable-libmysofa --enable-libopenjpeg --enable-libopenmpt --enable-libopus --enable-libpulse --enable-librsvg --enable-librubberband --enable-libshine --enable-libsnappy --enable-libsoxr --enable-libspeex --enable-libssh --enable-libtheora --enable-libtwolame --enable-libvidstab --enable-libvorbis --enable-libvpx --enable-libwavpack --enable-libwebp --enable-libx265 --enable-libxml2 --enable-libxvid --enable-libzmq --enable-libzvbi --enable-lv2 --enable-omx --enable-openal --enable-opencl --enable-opengl --enable-sdl2 --enable-libdc1394 --enable-libdrm --enable-libiec61883 --enable-nvenc --enable-chromaprint --enable-frei0r --enable-libx264 --enable-shared\n",
            "  libavutil      56. 31.100 / 56. 31.100\n",
            "  libavcodec     58. 54.100 / 58. 54.100\n",
            "  libavformat    58. 29.100 / 58. 29.100\n",
            "  libavdevice    58.  8.100 / 58.  8.100\n",
            "  libavfilter     7. 57.100 /  7. 57.100\n",
            "  libavresample   4.  0.  0 /  4.  0.  0\n",
            "  libswscale      5.  5.100 /  5.  5.100\n",
            "  libswresample   3.  5.100 /  3.  5.100\n",
            "  libpostproc    55.  5.100 / 55.  5.100\n",
            "Input #0, image2, from '/content/gdrive/MyDrive/AlicePRJ/frames/*.jpg':\n",
            "  Duration: 00:00:04.63, start: 0.000000, bitrate: N/A\n",
            "    Stream #0:0: Video: mjpeg (Baseline), yuvj420p(pc, bt470bg/unknown/unknown), 1080x720 [SAR 1:1 DAR 3:2], 30 fps, 30 tbr, 30 tbn, 30 tbc\n",
            "File '/content/gdrive/MyDrive/AlicePRJ/frames/reconstructoriginal.mp4' already exists. Overwrite ? [y/N] y\n",
            "Stream mapping:\n",
            "  Stream #0:0 -> #0:0 (mjpeg (native) -> h264 (libx264))\n",
            "Press [q] to stop, [?] for help\n",
            "\u001b[1;34m[swscaler @ 0x5646ee28ce00] \u001b[0m\u001b[0;33mdeprecated pixel format used, make sure you did set range correctly\n",
            "\u001b[0m\u001b[1;36m[libx264 @ 0x5646ee254c80] \u001b[0musing SAR=1/1\n",
            "\u001b[1;36m[libx264 @ 0x5646ee254c80] \u001b[0musing cpu capabilities: MMX2 SSE2Fast SSSE3 SSE4.2 AVX FMA3 BMI2 AVX2\n",
            "\u001b[1;36m[libx264 @ 0x5646ee254c80] \u001b[0mprofile High, level 3.1\n",
            "\u001b[1;36m[libx264 @ 0x5646ee254c80] \u001b[0m264 - core 155 r2917 0a84d98 - H.264/MPEG-4 AVC codec - Copyleft 2003-2018 - http://www.videolan.org/x264.html - options: cabac=1 ref=3 deblock=1:0:0 analyse=0x3:0x113 me=hex subme=7 psy=1 psy_rd=1.00:0.00 mixed_ref=1 me_range=16 chroma_me=1 trellis=1 8x8dct=1 cqm=0 deadzone=21,11 fast_pskip=1 chroma_qp_offset=-2 threads=3 lookahead_threads=1 sliced_threads=0 nr=0 decimate=1 interlaced=0 bluray_compat=0 constrained_intra=0 bframes=3 b_pyramid=2 b_adapt=1 b_bias=0 direct=1 weightb=1 open_gop=0 weightp=2 keyint=250 keyint_min=25 scenecut=40 intra_refresh=0 rc_lookahead=40 rc=crf mbtree=1 crf=23.0 qcomp=0.60 qpmin=0 qpmax=69 qpstep=4 ip_ratio=1.40 aq=1:1.00\n",
            "Output #0, mp4, to '/content/gdrive/MyDrive/AlicePRJ/frames/reconstructoriginal.mp4':\n",
            "  Metadata:\n",
            "    encoder         : Lavf58.29.100\n",
            "    Stream #0:0: Video: h264 (libx264) (avc1 / 0x31637661), yuv420p, 1080x720 [SAR 1:1 DAR 3:2], q=-1--1, 30 fps, 15360 tbn, 30 tbc\n",
            "    Metadata:\n",
            "      encoder         : Lavc58.54.100 libx264\n",
            "    Side data:\n",
            "      cpb: bitrate max/min/avg: 0/0/0 buffer size: 0 vbv_delay: -1\n",
            "frame=  139 fps= 21 q=-1.0 Lsize=     538kB time=00:00:04.53 bitrate= 972.6kbits/s speed=0.686x    \n",
            "video:536kB audio:0kB subtitle:0kB other streams:0kB global headers:0kB muxing overhead: 0.458237%\n",
            "\u001b[1;36m[libx264 @ 0x5646ee254c80] \u001b[0mframe I:1     Avg QP:22.03  size: 35207\n",
            "\u001b[1;36m[libx264 @ 0x5646ee254c80] \u001b[0mframe P:36    Avg QP:22.82  size:  9945\n",
            "\u001b[1;36m[libx264 @ 0x5646ee254c80] \u001b[0mframe B:102   Avg QP:24.80  size:  1517\n",
            "\u001b[1;36m[libx264 @ 0x5646ee254c80] \u001b[0mconsecutive B-frames:  1.4%  1.4%  2.2% 95.0%\n",
            "\u001b[1;36m[libx264 @ 0x5646ee254c80] \u001b[0mmb I  I16..4: 26.1% 57.5% 16.4%\n",
            "\u001b[1;36m[libx264 @ 0x5646ee254c80] \u001b[0mmb P  I16..4:  1.5%  2.1%  0.1%  P16..4: 39.8%  9.5%  7.4%  0.0%  0.0%    skip:39.6%\n",
            "\u001b[1;36m[libx264 @ 0x5646ee254c80] \u001b[0mmb B  I16..4:  0.1%  0.0%  0.0%  B16..8: 30.3%  0.5%  0.1%  direct: 0.3%  skip:68.8%  L0:36.8% L1:62.0% BI: 1.1%\n",
            "\u001b[1;36m[libx264 @ 0x5646ee254c80] \u001b[0m8x8 transform intra:57.1% inter:81.4%\n",
            "\u001b[1;36m[libx264 @ 0x5646ee254c80] \u001b[0mcoded y,uvDC,uvAC intra: 38.7% 51.4% 9.2% inter: 7.8% 10.8% 0.0%\n",
            "\u001b[1;36m[libx264 @ 0x5646ee254c80] \u001b[0mi16 v,h,dc,p: 14% 29%  9% 48%\n",
            "\u001b[1;36m[libx264 @ 0x5646ee254c80] \u001b[0mi8 v,h,dc,ddl,ddr,vr,hd,vl,hu: 17% 18% 39%  4%  5%  5%  4%  5%  4%\n",
            "\u001b[1;36m[libx264 @ 0x5646ee254c80] \u001b[0mi4 v,h,dc,ddl,ddr,vr,hd,vl,hu: 23% 20% 11%  6% 10% 11%  8%  6%  6%\n",
            "\u001b[1;36m[libx264 @ 0x5646ee254c80] \u001b[0mi8c dc,h,v,p: 58% 25% 14%  3%\n",
            "\u001b[1;36m[libx264 @ 0x5646ee254c80] \u001b[0mWeighted P-Frames: Y:0.0% UV:0.0%\n",
            "\u001b[1;36m[libx264 @ 0x5646ee254c80] \u001b[0mref P L0: 58.9% 12.4% 21.1%  7.6%\n",
            "\u001b[1;36m[libx264 @ 0x5646ee254c80] \u001b[0mref B L0: 89.3%  8.8%  1.9%\n",
            "\u001b[1;36m[libx264 @ 0x5646ee254c80] \u001b[0mref B L1: 95.3%  4.7%\n",
            "\u001b[1;36m[libx264 @ 0x5646ee254c80] \u001b[0mkb/s:946.07\n",
            "ffmpeg version 4.2.7-0ubuntu0.1 Copyright (c) 2000-2022 the FFmpeg developers\n",
            "  built with gcc 9 (Ubuntu 9.4.0-1ubuntu1~20.04.1)\n",
            "  configuration: --prefix=/usr --extra-version=0ubuntu0.1 --toolchain=hardened --libdir=/usr/lib/x86_64-linux-gnu --incdir=/usr/include/x86_64-linux-gnu --arch=amd64 --enable-gpl --disable-stripping --enable-avresample --disable-filter=resample --enable-avisynth --enable-gnutls --enable-ladspa --enable-libaom --enable-libass --enable-libbluray --enable-libbs2b --enable-libcaca --enable-libcdio --enable-libcodec2 --enable-libflite --enable-libfontconfig --enable-libfreetype --enable-libfribidi --enable-libgme --enable-libgsm --enable-libjack --enable-libmp3lame --enable-libmysofa --enable-libopenjpeg --enable-libopenmpt --enable-libopus --enable-libpulse --enable-librsvg --enable-librubberband --enable-libshine --enable-libsnappy --enable-libsoxr --enable-libspeex --enable-libssh --enable-libtheora --enable-libtwolame --enable-libvidstab --enable-libvorbis --enable-libvpx --enable-libwavpack --enable-libwebp --enable-libx265 --enable-libxml2 --enable-libxvid --enable-libzmq --enable-libzvbi --enable-lv2 --enable-omx --enable-openal --enable-opencl --enable-opengl --enable-sdl2 --enable-libdc1394 --enable-libdrm --enable-libiec61883 --enable-nvenc --enable-chromaprint --enable-frei0r --enable-libx264 --enable-shared\n",
            "  libavutil      56. 31.100 / 56. 31.100\n",
            "  libavcodec     58. 54.100 / 58. 54.100\n",
            "  libavformat    58. 29.100 / 58. 29.100\n",
            "  libavdevice    58.  8.100 / 58.  8.100\n",
            "  libavfilter     7. 57.100 /  7. 57.100\n",
            "  libavresample   4.  0.  0 /  4.  0.  0\n",
            "  libswscale      5.  5.100 /  5.  5.100\n",
            "  libswresample   3.  5.100 /  3.  5.100\n",
            "  libpostproc    55.  5.100 / 55.  5.100\n",
            "Input #0, image2, from '/content/gdrive/MyDrive/AlicePRJ/landmarks/*.jpg':\n",
            "  Duration: 00:00:04.63, start: 0.000000, bitrate: N/A\n",
            "    Stream #0:0: Video: mjpeg (Baseline), yuvj420p(pc, bt470bg/unknown/unknown), 1080x720 [SAR 1:1 DAR 3:2], 30 fps, 30 tbr, 30 tbn, 30 tbc\n",
            "Stream mapping:\n",
            "  Stream #0:0 -> #0:0 (mjpeg (native) -> h264 (libx264))\n",
            "Press [q] to stop, [?] for help\n",
            "\u001b[1;34m[swscaler @ 0x55acec5a5940] \u001b[0m\u001b[0;33mdeprecated pixel format used, make sure you did set range correctly\n",
            "\u001b[0m\u001b[1;36m[libx264 @ 0x55acec4f7500] \u001b[0musing SAR=1/1\n",
            "\u001b[1;36m[libx264 @ 0x55acec4f7500] \u001b[0musing cpu capabilities: MMX2 SSE2Fast SSSE3 SSE4.2 AVX FMA3 BMI2 AVX2\n",
            "\u001b[1;36m[libx264 @ 0x55acec4f7500] \u001b[0mprofile High, level 3.1\n",
            "\u001b[1;36m[libx264 @ 0x55acec4f7500] \u001b[0m264 - core 155 r2917 0a84d98 - H.264/MPEG-4 AVC codec - Copyleft 2003-2018 - http://www.videolan.org/x264.html - options: cabac=1 ref=3 deblock=1:0:0 analyse=0x3:0x113 me=hex subme=7 psy=1 psy_rd=1.00:0.00 mixed_ref=1 me_range=16 chroma_me=1 trellis=1 8x8dct=1 cqm=0 deadzone=21,11 fast_pskip=1 chroma_qp_offset=-2 threads=3 lookahead_threads=1 sliced_threads=0 nr=0 decimate=1 interlaced=0 bluray_compat=0 constrained_intra=0 bframes=3 b_pyramid=2 b_adapt=1 b_bias=0 direct=1 weightb=1 open_gop=0 weightp=2 keyint=250 keyint_min=25 scenecut=40 intra_refresh=0 rc_lookahead=40 rc=crf mbtree=1 crf=23.0 qcomp=0.60 qpmin=0 qpmax=69 qpstep=4 ip_ratio=1.40 aq=1:1.00\n",
            "Output #0, mp4, to '/content/gdrive/MyDrive/AlicePRJ/landmarks/reconstructlandmark.mp4':\n",
            "  Metadata:\n",
            "    encoder         : Lavf58.29.100\n",
            "    Stream #0:0: Video: h264 (libx264) (avc1 / 0x31637661), yuv420p, 1080x720 [SAR 1:1 DAR 3:2], q=-1--1, 30 fps, 15360 tbn, 30 tbc\n",
            "    Metadata:\n",
            "      encoder         : Lavc58.54.100 libx264\n",
            "    Side data:\n",
            "      cpb: bitrate max/min/avg: 0/0/0 buffer size: 0 vbv_delay: -1\n",
            "frame=  139 fps= 15 q=-1.0 Lsize=    1464kB time=00:00:04.53 bitrate=2645.1kbits/s speed=0.491x    \n",
            "video:1461kB audio:0kB subtitle:0kB other streams:0kB global headers:0kB muxing overhead: 0.169608%\n",
            "\u001b[1;36m[libx264 @ 0x55acec4f7500] \u001b[0mframe I:1     Avg QP:22.48  size: 65925\n",
            "\u001b[1;36m[libx264 @ 0x55acec4f7500] \u001b[0mframe P:35    Avg QP:23.19  size: 21837\n",
            "\u001b[1;36m[libx264 @ 0x55acec4f7500] \u001b[0mframe B:103   Avg QP:26.05  size:  6461\n",
            "\u001b[1;36m[libx264 @ 0x55acec4f7500] \u001b[0mconsecutive B-frames:  0.7%  1.4%  0.0% 97.8%\n",
            "\u001b[1;36m[libx264 @ 0x55acec4f7500] \u001b[0mmb I  I16..4: 25.0% 54.7% 20.3%\n",
            "\u001b[1;36m[libx264 @ 0x55acec4f7500] \u001b[0mmb P  I16..4:  1.4%  1.9%  0.0%  P16..4: 36.4% 10.2% 12.2%  0.0%  0.0%    skip:37.8%\n",
            "\u001b[1;36m[libx264 @ 0x55acec4f7500] \u001b[0mmb B  I16..4:  0.1%  0.0%  0.0%  B16..8: 26.5%  2.5%  3.7%  direct: 0.9%  skip:66.3%  L0:38.6% L1:58.3% BI: 3.1%\n",
            "\u001b[1;36m[libx264 @ 0x55acec4f7500] \u001b[0m8x8 transform intra:54.8% inter:61.3%\n",
            "\u001b[1;36m[libx264 @ 0x55acec4f7500] \u001b[0mcoded y,uvDC,uvAC intra: 37.4% 46.7% 10.3% inter: 10.3% 14.8% 6.1%\n",
            "\u001b[1;36m[libx264 @ 0x55acec4f7500] \u001b[0mi16 v,h,dc,p: 16% 28% 12% 44%\n",
            "\u001b[1;36m[libx264 @ 0x55acec4f7500] \u001b[0mi8 v,h,dc,ddl,ddr,vr,hd,vl,hu: 17% 19% 42%  4%  4%  4%  3%  4%  4%\n",
            "\u001b[1;36m[libx264 @ 0x55acec4f7500] \u001b[0mi4 v,h,dc,ddl,ddr,vr,hd,vl,hu: 17% 16% 12%  8% 10% 11%  9%  9%  8%\n",
            "\u001b[1;36m[libx264 @ 0x55acec4f7500] \u001b[0mi8c dc,h,v,p: 60% 24% 13%  3%\n",
            "\u001b[1;36m[libx264 @ 0x55acec4f7500] \u001b[0mWeighted P-Frames: Y:0.0% UV:0.0%\n",
            "\u001b[1;36m[libx264 @ 0x55acec4f7500] \u001b[0mref P L0: 56.1% 11.4% 22.6%  9.9%\n",
            "\u001b[1;36m[libx264 @ 0x55acec4f7500] \u001b[0mref B L0: 81.4% 14.2%  4.4%\n",
            "\u001b[1;36m[libx264 @ 0x55acec4f7500] \u001b[0mref B L1: 92.7%  7.3%\n",
            "\u001b[1;36m[libx264 @ 0x55acec4f7500] \u001b[0mkb/s:2582.52\n",
            "ffmpeg version 4.2.7-0ubuntu0.1 Copyright (c) 2000-2022 the FFmpeg developers\n",
            "  built with gcc 9 (Ubuntu 9.4.0-1ubuntu1~20.04.1)\n",
            "  configuration: --prefix=/usr --extra-version=0ubuntu0.1 --toolchain=hardened --libdir=/usr/lib/x86_64-linux-gnu --incdir=/usr/include/x86_64-linux-gnu --arch=amd64 --enable-gpl --disable-stripping --enable-avresample --disable-filter=resample --enable-avisynth --enable-gnutls --enable-ladspa --enable-libaom --enable-libass --enable-libbluray --enable-libbs2b --enable-libcaca --enable-libcdio --enable-libcodec2 --enable-libflite --enable-libfontconfig --enable-libfreetype --enable-libfribidi --enable-libgme --enable-libgsm --enable-libjack --enable-libmp3lame --enable-libmysofa --enable-libopenjpeg --enable-libopenmpt --enable-libopus --enable-libpulse --enable-librsvg --enable-librubberband --enable-libshine --enable-libsnappy --enable-libsoxr --enable-libspeex --enable-libssh --enable-libtheora --enable-libtwolame --enable-libvidstab --enable-libvorbis --enable-libvpx --enable-libwavpack --enable-libwebp --enable-libx265 --enable-libxml2 --enable-libxvid --enable-libzmq --enable-libzvbi --enable-lv2 --enable-omx --enable-openal --enable-opencl --enable-opengl --enable-sdl2 --enable-libdc1394 --enable-libdrm --enable-libiec61883 --enable-nvenc --enable-chromaprint --enable-frei0r --enable-libx264 --enable-shared\n",
            "  libavutil      56. 31.100 / 56. 31.100\n",
            "  libavcodec     58. 54.100 / 58. 54.100\n",
            "  libavformat    58. 29.100 / 58. 29.100\n",
            "  libavdevice    58.  8.100 / 58.  8.100\n",
            "  libavfilter     7. 57.100 /  7. 57.100\n",
            "  libavresample   4.  0.  0 /  4.  0.  0\n",
            "  libswscale      5.  5.100 /  5.  5.100\n",
            "  libswresample   3.  5.100 /  3.  5.100\n",
            "  libpostproc    55.  5.100 / 55.  5.100\n",
            "Input #0, image2, from '/content/gdrive/MyDrive/AlicePRJ/landmarks_only/*.jpg':\n",
            "  Duration: 00:00:04.63, start: 0.000000, bitrate: N/A\n",
            "    Stream #0:0: Video: mjpeg (Baseline), yuvj420p(pc, bt470bg/unknown/unknown), 1080x720 [SAR 1:1 DAR 3:2], 30 fps, 30 tbr, 30 tbn, 30 tbc\n",
            "Stream mapping:\n",
            "  Stream #0:0 -> #0:0 (mjpeg (native) -> h264 (libx264))\n",
            "Press [q] to stop, [?] for help\n",
            "\u001b[1;34m[swscaler @ 0x555fc35c2d40] \u001b[0m\u001b[0;33mdeprecated pixel format used, make sure you did set range correctly\n",
            "\u001b[0m\u001b[1;36m[libx264 @ 0x555fc3599b00] \u001b[0musing SAR=1/1\n",
            "\u001b[1;36m[libx264 @ 0x555fc3599b00] \u001b[0musing cpu capabilities: MMX2 SSE2Fast SSSE3 SSE4.2 AVX FMA3 BMI2 AVX2\n",
            "\u001b[1;36m[libx264 @ 0x555fc3599b00] \u001b[0mprofile High, level 3.1\n",
            "\u001b[1;36m[libx264 @ 0x555fc3599b00] \u001b[0m264 - core 155 r2917 0a84d98 - H.264/MPEG-4 AVC codec - Copyleft 2003-2018 - http://www.videolan.org/x264.html - options: cabac=1 ref=3 deblock=1:0:0 analyse=0x3:0x113 me=hex subme=7 psy=1 psy_rd=1.00:0.00 mixed_ref=1 me_range=16 chroma_me=1 trellis=1 8x8dct=1 cqm=0 deadzone=21,11 fast_pskip=1 chroma_qp_offset=-2 threads=3 lookahead_threads=1 sliced_threads=0 nr=0 decimate=1 interlaced=0 bluray_compat=0 constrained_intra=0 bframes=3 b_pyramid=2 b_adapt=1 b_bias=0 direct=1 weightb=1 open_gop=0 weightp=2 keyint=250 keyint_min=25 scenecut=40 intra_refresh=0 rc_lookahead=40 rc=crf mbtree=1 crf=23.0 qcomp=0.60 qpmin=0 qpmax=69 qpstep=4 ip_ratio=1.40 aq=1:1.00\n",
            "Output #0, mp4, to '/content/gdrive/MyDrive/AlicePRJ/landmarks_only/reconstructlandmarks_only.mp4':\n",
            "  Metadata:\n",
            "    encoder         : Lavf58.29.100\n",
            "    Stream #0:0: Video: h264 (libx264) (avc1 / 0x31637661), yuv420p, 1080x720 [SAR 1:1 DAR 3:2], q=-1--1, 30 fps, 15360 tbn, 30 tbc\n",
            "    Metadata:\n",
            "      encoder         : Lavc58.54.100 libx264\n",
            "    Side data:\n",
            "      cpb: bitrate max/min/avg: 0/0/0 buffer size: 0 vbv_delay: -1\n",
            "frame=  139 fps= 59 q=-1.0 Lsize=    1138kB time=00:00:04.53 bitrate=2057.1kbits/s speed=1.94x    \n",
            "video:1136kB audio:0kB subtitle:0kB other streams:0kB global headers:0kB muxing overhead: 0.218198%\n",
            "\u001b[1;36m[libx264 @ 0x555fc3599b00] \u001b[0mframe I:1     Avg QP: 9.19  size: 36742\n",
            "\u001b[1;36m[libx264 @ 0x555fc3599b00] \u001b[0mframe P:35    Avg QP:19.91  size: 13022\n",
            "\u001b[1;36m[libx264 @ 0x555fc3599b00] \u001b[0mframe B:103   Avg QP:26.45  size:  6504\n",
            "\u001b[1;36m[libx264 @ 0x555fc3599b00] \u001b[0mconsecutive B-frames:  0.7%  1.4%  0.0% 97.8%\n",
            "\u001b[1;36m[libx264 @ 0x555fc3599b00] \u001b[0mmb I  I16..4: 90.2%  0.1%  9.7%\n",
            "\u001b[1;36m[libx264 @ 0x555fc3599b00] \u001b[0mmb P  I16..4:  0.1%  0.2%  0.0%  P16..4:  2.8%  2.6%  4.7%  0.0%  0.0%    skip:89.6%\n",
            "\u001b[1;36m[libx264 @ 0x555fc3599b00] \u001b[0mmb B  I16..4:  0.0%  0.0%  0.0%  B16..8:  3.4%  2.0%  3.7%  direct: 0.7%  skip:90.2%  L0:49.8% L1:43.8% BI: 6.4%\n",
            "\u001b[1;36m[libx264 @ 0x555fc3599b00] \u001b[0m8x8 transform intra:9.6% inter:2.7%\n",
            "\u001b[1;36m[libx264 @ 0x555fc3599b00] \u001b[0mcoded y,uvDC,uvAC intra: 8.2% 9.3% 8.5% inter: 4.2% 5.6% 5.4%\n",
            "\u001b[1;36m[libx264 @ 0x555fc3599b00] \u001b[0mi16 v,h,dc,p: 95%  2%  3%  0%\n",
            "\u001b[1;36m[libx264 @ 0x555fc3599b00] \u001b[0mi8 v,h,dc,ddl,ddr,vr,hd,vl,hu:  4%  3% 93%  0%  0%  0%  0%  0%  0%\n",
            "\u001b[1;36m[libx264 @ 0x555fc3599b00] \u001b[0mi4 v,h,dc,ddl,ddr,vr,hd,vl,hu: 12% 11% 19%  8% 10% 10% 10% 10%  9%\n",
            "\u001b[1;36m[libx264 @ 0x555fc3599b00] \u001b[0mi8c dc,h,v,p: 89%  5%  5%  1%\n",
            "\u001b[1;36m[libx264 @ 0x555fc3599b00] \u001b[0mWeighted P-Frames: Y:0.0% UV:0.0%\n",
            "\u001b[1;36m[libx264 @ 0x555fc3599b00] \u001b[0mref P L0: 44.9%  5.1% 25.9% 24.1%\n",
            "\u001b[1;36m[libx264 @ 0x555fc3599b00] \u001b[0mref B L0: 68.2% 23.8%  8.1%\n",
            "\u001b[1;36m[libx264 @ 0x555fc3599b00] \u001b[0mref B L1: 84.8% 15.2%\n",
            "\u001b[1;36m[libx264 @ 0x555fc3599b00] \u001b[0mkb/s:2007.15\n"
          ]
        }
      ]
    },
    {
      "cell_type": "code",
      "source": [],
      "metadata": {
        "id": "2pKimYlOuWTL"
      },
      "execution_count": null,
      "outputs": []
    },
    {
      "cell_type": "code",
      "source": [],
      "metadata": {
        "id": "mEkKYjxyuWPp"
      },
      "execution_count": null,
      "outputs": []
    },
    {
      "cell_type": "code",
      "source": [],
      "metadata": {
        "id": "Ch6vn5bNuWKY"
      },
      "execution_count": null,
      "outputs": []
    },
    {
      "cell_type": "code",
      "source": [
        "\n",
        "import cv2\n",
        "import mediapipe as mp\n",
        "import numpy as np\n",
        "from google.colab.patches import cv2_imshow\n",
        "\n",
        "cap = cv2.VideoCapture('/content/gdrive/MyDrive/AlicePRJ/alicvideo.mp4')\n",
        "\n",
        "mp_drawing = mp.solutions.drawing_utils\n",
        "mp_face_mesh = mp.solutions.face_mesh\n",
        "face_mesh = mp_face_mesh.FaceMesh(static_image_mode=False, max_num_faces=1, min_detection_confidence=0.5, min_tracking_confidence=0.5)\n",
        "\n",
        "while cap.isOpened():\n",
        "    # Read frame from video\n",
        "    ret, frame = cap.read()\n",
        "    if not ret:\n",
        "        break\n",
        "        \n",
        "    # Flip the frame horizontally for selfie view display\n",
        "    frame = cv2.flip(frame, 1)\n",
        "    \n",
        "    # Convert the image from BGR to RGB\n",
        "    image = cv2.cvtColor(frame, cv2.COLOR_BGR2RGB)\n",
        "    \n",
        "    # To improve performance, optionally mark the image as not writeable to pass by reference.\n",
        "    image.flags.writeable = False\n",
        "    \n",
        "    # Process the image with the Mediapipe Mesh solution\n",
        "    results = face_mesh.process(image)\n",
        "    \n",
        "    # Draw the face mesh on the frame\n",
        "    if results.multi_face_landmarks:\n",
        "        for face_landmarks in results.multi_face_landmarks:\n",
        "            mp_drawing.draw_landmarks(frame, face_landmarks, mp_face_mesh.FACEMESH_TESSELATION)\n",
        "            \n",
        "    \n",
        "    # Show the frame\n",
        "    cv2_imshow(frame)\n",
        "    \n",
        "    \n",
        "    # Exit the program when 'q' is pressed\n",
        "    if cv2.waitKey(1) & 0xFF == ord('q'):\n",
        "        break\n",
        "\n",
        "cap.release()\n",
        "cv2.destroyAllWindows()\n"
      ],
      "metadata": {
        "id": "Ty6dDgjvP_8L"
      },
      "execution_count": null,
      "outputs": []
    },
    {
      "cell_type": "markdown",
      "source": [],
      "metadata": {
        "id": "ycilVEzSbh3r"
      }
    },
    {
      "cell_type": "markdown",
      "source": [],
      "metadata": {
        "id": "i30wm45wbgtA"
      }
    },
    {
      "cell_type": "code",
      "source": [
        "!pip install opencv-python-headless mediapipe numpy"
      ],
      "metadata": {
        "id": "8ACFacKhYp18"
      },
      "execution_count": null,
      "outputs": []
    },
    {
      "cell_type": "markdown",
      "source": [
        "Accelerateur gpu"
      ],
      "metadata": {
        "id": "F5398wpjZFgT"
      }
    },
    {
      "cell_type": "code",
      "source": [
        "import cv2\n",
        "import mediapipe as mp\n",
        "import tensorflow as tf\n",
        "\n",
        "# Enable TensorFlow GPU support\n",
        "gpus = tf.config.list_physical_devices('GPU')\n",
        "if gpus:\n",
        "    try:\n",
        "        tf.config.experimental.set_visible_devices(gpus[0], 'GPU')\n",
        "        tf.config.experimental.set_memory_growth(gpus[0], True)\n",
        "        print(\"Using GPU: \", tf.test.gpu_device_name())\n",
        "    except RuntimeError as e:\n",
        "        print(e)\n",
        "\n",
        "# Create the Face Mesh model\n",
        "mp_face_mesh = mp.solutions.face_mesh\n",
        "face_mesh = mp_face_mesh.FaceMesh(static_image_mode=False, max_num_faces=1, min_detection_confidence=0.5, min_tracking_confidence=0.5)\n",
        "\n",
        "# Create a VideoCapture object to read the video file\n",
        "cap = cv2.VideoCapture('/content/gdrive/MyDrive/AlicePRJ/alicvideo.mp4')\n",
        "\n",
        "\n",
        "# Read the first frame to get the frame size\n",
        "ret, frame = cap.read()\n",
        "frame_height, frame_width, _ = frame.shape\n",
        "\n",
        "# Create a CUDA stream for GPU-accelerated OpenCV functions\n",
        "cuda_stream = cv2.cuda_Stream()\n",
        "\n",
        "# Loop through the video frames\n",
        "while cap.isOpened():\n",
        "    # Read a frame from the video\n",
        "    ret, frame = cap.read()\n",
        "    if not ret:\n",
        "        break\n",
        "\n",
        "    # Convert the image from BGR to RGB\n",
        "    image = cv2.cvtColor(frame, cv2.COLOR_BGR2RGB)\n",
        "\n",
        "    # Create CUDA matrices for GPU-accelerated OpenCV functions\n",
        "    cuda_image = cv2.cuda_GpuMat(image, allocator=cv2.cuda.HostMemAllocator())\n",
        "    cuda_gray = cv2.cuda_GpuMat((frame_height, frame_width), cv2.CV_8UC1, allocator=cv2.cuda.HostMemAllocator())\n",
        "    cuda_threshold = cv2.cuda_GpuMat((frame_height, frame_width), cv2.CV_8UC1, allocator=cv2.cuda.HostMemAllocator())\n",
        "\n",
        "    # Convert the image to grayscale on the GPU\n",
        "    cv2.cuda.cvtColor(cuda_image, cv2.COLOR_RGB2GRAY, dst=cuda_gray, stream=cuda_stream)\n",
        "\n",
        "    # Threshold the grayscale image on the GPU\n",
        "    cv2.cuda.threshold(cuda_gray, 127, 255, cv2.THRESH_BINARY, dst=cuda_threshold, stream=cuda_stream)\n",
        "\n",
        "# Download the thresholded image back to the CPU\n",
        "thresholded_image = cuda_threshold.download()\n",
        "\n",
        "# Process the thresholded image with the Face Mesh model\n",
        "results = face_mesh.process(thresholded_image)\n",
        "\n",
        "# Draw the face mesh on the frame\n",
        "if results.multi_face_landmarks:\n",
        "    for face_landmarks in results.multi_face_landmarks:\n",
        "        mp_drawing.draw_landmarks(frame, face_landmarks, mp_face_mesh.FACEMESH_TESSELATION)\n",
        "\n",
        "# Display the frame\n",
        "cv2.imshow('Frame', frame)\n",
        "\n",
        "# Wait for a key press\n",
        "if cv2.waitKey(1) & 0xFF == ord('q'):\n",
        "    break\n",
        "cap.release()\n",
        "cv2.destroyAllWindows()\n"
      ],
      "metadata": {
        "id": "q6yu9x2LYRt3"
      },
      "execution_count": null,
      "outputs": []
    }
  ]
}
